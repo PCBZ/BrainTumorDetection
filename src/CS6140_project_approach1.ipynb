{
  "nbformat": 4,
  "nbformat_minor": 0,
  "metadata": {
    "colab": {
      "provenance": [],
      "gpuType": "T4",
      "toc_visible": true,
      "authorship_tag": "ABX9TyNiz4sjPVrk84YpRHETWlWo",
      "include_colab_link": true
    },
    "kernelspec": {
      "name": "python3",
      "display_name": "Python 3"
    },
    "language_info": {
      "name": "python"
    },
    "accelerator": "GPU"
  },
  "cells": [
    {
      "cell_type": "markdown",
      "metadata": {
        "id": "view-in-github",
        "colab_type": "text"
      },
      "source": [
        "<a href=\"https://colab.research.google.com/github/PCBZ/BrainTumorDetection/blob/dev_approach1/src/CS6140_project_approach1.ipynb\" target=\"_parent\"><img src=\"https://colab.research.google.com/assets/colab-badge.svg\" alt=\"Open In Colab\"/></a>"
      ]
    },
    {
      "cell_type": "code",
      "source": [
        "import os\n",
        "import shutil\n",
        "from sklearn.model_selection import train_test_split\n",
        "from torchvision import datasets, transforms\n",
        "from torch.utils.data import DataLoader\n",
        "import torch\n",
        "import kagglehub\n",
        "\n",
        "class DataPreprocessor:\n",
        "    @staticmethod\n",
        "    def organize_data(source_path, target_path='/content/brain_tumor_split', test_size=0.2):\n",
        "        all_images, all_labels = [], []\n",
        "        for class_name in ['yes', 'no']:\n",
        "            class_path = os.path.join(source_path, class_name)\n",
        "            for image in os.listdir(class_path):\n",
        "                all_images.append(os.path.join(class_path, image))\n",
        "                all_labels.append(class_name)\n",
        "\n",
        "        X_train, X_test, y_train, y_test = train_test_split(\n",
        "            all_images, all_labels, test_size=test_size, stratify=all_labels, random_state=42\n",
        "        )\n",
        "\n",
        "        for split, (images, labels) in [('train', (X_train, y_train)), ('test', (X_test, y_test))]:\n",
        "            for class_name in ['yes', 'no']:\n",
        "                os.makedirs(os.path.join(target_path, split, class_name), exist_ok=True)\n",
        "            for image, label in zip(images, labels):\n",
        "                shutil.copy(image, os.path.join(target_path, split, label))\n",
        "\n",
        "        return target_path\n",
        "\n",
        "class DataLoaderHelper:\n",
        "    @staticmethod\n",
        "    def load_data(data_dir, image_size=(224, 224), batch_size=16, num_workers=2):\n",
        "        data_transforms = {\n",
        "            'train': transforms.Compose([\n",
        "                transforms.Resize(image_size),\n",
        "                transforms.RandomHorizontalFlip(),\n",
        "                transforms.ToTensor(),\n",
        "                transforms.Normalize(mean=[0.485, 0.456, 0.406], std=[0.229, 0.224, 0.225])\n",
        "            ]),\n",
        "            'test': transforms.Compose([\n",
        "                transforms.Resize(image_size),\n",
        "                transforms.ToTensor(),\n",
        "                transforms.Normalize(mean=[0.485, 0.456, 0.406], std=[0.229, 0.224, 0.225])\n",
        "            ])\n",
        "        }\n",
        "\n",
        "        image_datasets = {\n",
        "            x: datasets.ImageFolder(os.path.join(data_dir, x), data_transforms[x])\n",
        "            for x in ['train', 'test']\n",
        "        }\n",
        "        dataloaders = {\n",
        "            x: DataLoader(image_datasets[x], batch_size=batch_size, shuffle=True, num_workers=num_workers)\n",
        "            for x in ['train', 'test']\n",
        "        }\n",
        "\n",
        "        train_labels = [label for _, label in image_datasets['train']]\n",
        "        class_counts = torch.bincount(torch.tensor(train_labels))\n",
        "        class_weights = 1.0 / class_counts.float()\n",
        "        class_weights = class_weights / class_weights.sum() * 2\n",
        "\n",
        "        return dataloaders, class_weights, image_datasets\n",
        "\n",
        "class DataUtils:\n",
        "    @staticmethod\n",
        "    def load_brain_tumor_data_pipeline(dataset_url='navoneel/brain-mri-images-for-brain-tumor-detection',\n",
        "                                        target_path='/content/brain_tumor_data'):\n",
        "        path = kagglehub.dataset_download(dataset_url)\n",
        "        target_path = DataPreprocessor.organize_data(path, target_path)\n",
        "        dataloaders, class_weights, image_datasets = DataLoaderHelper.load_data(target_path)\n",
        "        return dataloaders, class_weights, image_datasets\n",
        "\n",
        "# Load data\n",
        "dataloaders, class_weights, image_datasets = DataUtils.load_brain_tumor_data_pipeline()\n",
        "print(f\"Train samples: {len(image_datasets['train'])}\")\n",
        "print(f\"Test samples: {len(image_datasets['test'])}\")\n",
        "print(f\"Class weights: {class_weights}\")"
      ],
      "metadata": {
        "colab": {
          "base_uri": "https://localhost:8080/"
        },
        "id": "AThLBuMbRqii",
        "outputId": "5bb7982c-ee00-4b58-ae4b-c5859150f5aa"
      },
      "execution_count": null,
      "outputs": [
        {
          "output_type": "stream",
          "name": "stdout",
          "text": [
            "Train samples: 202\n",
            "Test samples: 51\n",
            "Class weights: tensor([1.2277, 0.7723])\n"
          ]
        }
      ]
    },
    {
      "cell_type": "code",
      "execution_count": null,
      "metadata": {
        "id": "SHKKQl0QQDkE"
      },
      "outputs": [],
      "source": [
        "import torch.nn as nn\n",
        "import torch.optim as optim\n",
        "import numpy as np\n",
        "from tqdm import tqdm\n",
        "\n",
        "device = torch.device('cuda' if torch.cuda.is_available() else 'cpu')\n",
        "\n",
        "class BrainTumorCNN(nn.Module):\n",
        "    def __init__(self, dropout_rate=0.3):\n",
        "        super(BrainTumorCNN, self).__init__()\n",
        "\n",
        "        self.features = nn.Sequential(\n",
        "            nn.Conv2d(3, 32, 3, padding=1), nn.BatchNorm2d(32), nn.ReLU(),\n",
        "            nn.Conv2d(32, 32, 3, padding=1), nn.BatchNorm2d(32), nn.ReLU(),\n",
        "            nn.MaxPool2d(2), nn.Dropout2d(dropout_rate * 0.5),\n",
        "\n",
        "            nn.Conv2d(32, 64, 3, padding=1), nn.BatchNorm2d(64), nn.ReLU(),\n",
        "            nn.Conv2d(64, 64, 3, padding=1), nn.BatchNorm2d(64), nn.ReLU(),\n",
        "            nn.MaxPool2d(2), nn.Dropout2d(dropout_rate * 0.7),\n",
        "\n",
        "            nn.Conv2d(64, 128, 3, padding=1), nn.BatchNorm2d(128), nn.ReLU(),\n",
        "            nn.Conv2d(128, 128, 3, padding=1), nn.BatchNorm2d(128), nn.ReLU(),\n",
        "            nn.MaxPool2d(2), nn.Dropout2d(dropout_rate),\n",
        "\n",
        "            nn.Conv2d(128, 256, 3, padding=1), nn.BatchNorm2d(256), nn.ReLU(),\n",
        "            nn.MaxPool2d(2), nn.Dropout2d(dropout_rate),\n",
        "\n",
        "            nn.AdaptiveAvgPool2d((1, 1))\n",
        "        )\n",
        "\n",
        "        self.classifier = nn.Sequential(\n",
        "            nn.Linear(256, 512), nn.BatchNorm1d(512), nn.ReLU(), nn.Dropout(dropout_rate),\n",
        "            nn.Linear(512, 256), nn.BatchNorm1d(256), nn.ReLU(), nn.Dropout(dropout_rate * 0.5),\n",
        "            nn.Linear(256, 1)\n",
        "        )\n",
        "\n",
        "        # Training attributes\n",
        "        self.train_losses, self.val_losses = [], []\n",
        "        self.train_accs, self.val_accs = [], []\n",
        "\n",
        "    def forward(self, x):\n",
        "        x = self.features(x)\n",
        "        x = x.view(x.size(0), -1)\n",
        "        return self.classifier(x)\n",
        "\n",
        "    def train_epoch(self, loader, criterion, optimizer, class_weights=None):\n",
        "        self.train()\n",
        "        total_loss, correct, total = 0, 0, 0\n",
        "\n",
        "        for inputs, labels in tqdm(loader, desc=\"Training\"):\n",
        "            inputs, labels = inputs.to(device), labels.to(device).float()\n",
        "\n",
        "            optimizer.zero_grad()\n",
        "            outputs = self(inputs).squeeze()\n",
        "            loss = criterion(outputs, labels)\n",
        "\n",
        "            if class_weights is not None:\n",
        "                weights = class_weights[labels.long()]\n",
        "                loss = (loss * weights).mean()\n",
        "\n",
        "            loss.backward()\n",
        "            optimizer.step()\n",
        "\n",
        "            total_loss += loss.item()\n",
        "            predicted = (torch.sigmoid(outputs) > 0.5).float()\n",
        "            correct += (predicted == labels).sum().item()\n",
        "            total += labels.size(0)\n",
        "\n",
        "        return total_loss / len(loader), 100. * correct / total\n",
        "\n",
        "    def validate_epoch(self, loader, criterion):\n",
        "        self.eval()\n",
        "        total_loss, correct, total = 0, 0, 0\n",
        "        all_preds, all_labels = [], []\n",
        "\n",
        "        with torch.no_grad():\n",
        "            for inputs, labels in tqdm(loader, desc=\"Validating\"):\n",
        "                inputs, labels = inputs.to(device), labels.to(device).float()\n",
        "                outputs = self(inputs).squeeze()\n",
        "                loss = criterion(outputs, labels)\n",
        "\n",
        "                total_loss += loss.item()\n",
        "                predicted = (torch.sigmoid(outputs) > 0.5).float()\n",
        "                correct += (predicted == labels).sum().item()\n",
        "                total += labels.size(0)\n",
        "\n",
        "                all_preds.extend(torch.sigmoid(outputs).cpu().numpy())\n",
        "                all_labels.extend(labels.cpu().numpy())\n",
        "\n",
        "        return total_loss / len(loader), 100. * correct / total, all_preds, all_labels\n",
        "\n",
        "    def train_model(self, train_loader, val_loader, epochs, lr, optimizer_type='adam',\n",
        "                   class_weights=None, patience=15):\n",
        "        self.to(device)\n",
        "        criterion = nn.BCEWithLogitsLoss()\n",
        "\n",
        "        if class_weights is not None:\n",
        "            class_weights = class_weights.to(device)\n",
        "\n",
        "        optimizers = {\n",
        "            'adam': optim.Adam(self.parameters(), lr=lr, weight_decay=1e-4),\n",
        "            'sgd': optim.SGD(self.parameters(), lr=lr, momentum=0.9, weight_decay=1e-4),\n",
        "            'rmsprop': optim.RMSprop(self.parameters(), lr=lr, weight_decay=1e-4)\n",
        "        }\n",
        "        optimizer = optimizers[optimizer_type]\n",
        "        scheduler = optim.lr_scheduler.ReduceLROnPlateau(optimizer, 'min', patience=7, factor=0.5)\n",
        "\n",
        "        best_val_loss = float('inf')\n",
        "        patience_counter = 0\n",
        "        best_model_state = None\n",
        "\n",
        "        for epoch in range(epochs):\n",
        "            print(f\"\\nEpoch {epoch+1}/{epochs}\")\n",
        "\n",
        "            train_loss, train_acc = self.train_epoch(train_loader, criterion, optimizer, class_weights)\n",
        "            val_loss, val_acc, val_preds, val_labels = self.validate_epoch(val_loader, criterion)\n",
        "\n",
        "            scheduler.step(val_loss)\n",
        "\n",
        "            self.train_losses.append(train_loss)\n",
        "            self.val_losses.append(val_loss)\n",
        "            self.train_accs.append(train_acc)\n",
        "            self.val_accs.append(val_acc)\n",
        "\n",
        "            print(f\"Train: Loss={train_loss:.4f}, Acc={train_acc:.2f}%\")\n",
        "            print(f\"Val: Loss={val_loss:.4f}, Acc={val_acc:.2f}%\")\n",
        "\n",
        "            if val_loss < best_val_loss:\n",
        "                best_val_loss = val_loss\n",
        "                patience_counter = 0\n",
        "                best_model_state = self.state_dict().copy()\n",
        "            else:\n",
        "                patience_counter += 1\n",
        "                if patience_counter >= patience:\n",
        "                    print(f\"Early stopping at epoch {epoch+1}\")\n",
        "                    break\n",
        "\n",
        "        if best_model_state is not None:\n",
        "            self.load_state_dict(best_model_state)\n",
        "\n",
        "        return val_preds, val_labels"
      ]
    },
    {
      "cell_type": "code",
      "source": [
        "import matplotlib.pyplot as plt\n",
        "from sklearn.metrics import accuracy_score, precision_score, recall_score, f1_score, roc_auc_score\n",
        "import pandas as pd\n",
        "\n",
        "def evaluate_model(model, test_loader):\n",
        "    model.eval()\n",
        "    all_preds, all_labels, all_probs = [], [], []\n",
        "\n",
        "    with torch.no_grad():\n",
        "        for inputs, labels in test_loader:\n",
        "            inputs, labels = inputs.to(device), labels.to(device).float()\n",
        "            outputs = model(inputs).squeeze()\n",
        "            probs = torch.sigmoid(outputs)\n",
        "\n",
        "            all_preds.extend((probs > 0.5).float().cpu().numpy())\n",
        "            all_labels.extend(labels.cpu().numpy())\n",
        "            all_probs.extend(probs.cpu().numpy())\n",
        "\n",
        "    metrics = {\n",
        "        'accuracy': accuracy_score(all_labels, all_preds),\n",
        "        'precision': precision_score(all_labels, all_preds, zero_division=0),\n",
        "        'recall': recall_score(all_labels, all_preds, zero_division=0),\n",
        "        'f1': f1_score(all_labels, all_preds, zero_division=0),\n",
        "        'auc': roc_auc_score(all_labels, all_probs)\n",
        "    }\n",
        "\n",
        "    print(\"\\n\" + \"=\"*50)\n",
        "    print(\"EVALUATION RESULTS\")\n",
        "    print(\"=\"*50)\n",
        "    for metric, value in metrics.items():\n",
        "        print(f\"{metric.upper()}: {value:.4f}\")\n",
        "\n",
        "    return metrics\n",
        "\n",
        "def plot_training_history(model):\n",
        "    plt.figure(figsize=(12, 4))\n",
        "\n",
        "    plt.subplot(1, 2, 1)\n",
        "    plt.plot(model.train_losses, label='Train Loss')\n",
        "    plt.plot(model.val_losses, label='Val Loss')\n",
        "    plt.title('Training History - Loss')\n",
        "    plt.xlabel('Epoch')\n",
        "    plt.ylabel('Loss')\n",
        "    plt.legend()\n",
        "\n",
        "    plt.subplot(1, 2, 2)\n",
        "    plt.plot(model.train_accs, label='Train Acc')\n",
        "    plt.plot(model.val_accs, label='Val Acc')\n",
        "    plt.title('Training History - Accuracy')\n",
        "    plt.xlabel('Epoch')\n",
        "    plt.ylabel('Accuracy (%)')\n",
        "    plt.legend()\n",
        "\n",
        "    plt.tight_layout()\n",
        "    plt.show()\n",
        "\n",
        "params = {\n",
        "    'dropout_rate': 0.07,\n",
        "    'learning_rate': 0.001,\n",
        "    'optimizer': 'adam',\n",
        "    'epochs': 100,\n",
        "    'patience': 15\n",
        "}\n",
        "\n",
        "print(\"Starting Custom CNN Training\")\n",
        "print(\"Focus: CNN Architecture & Hyperparameter Optimization\")\n",
        "print(\"=\" * 60)\n",
        "\n",
        "print(f\"\\nUsing parameters: {params}\")\n",
        "\n",
        "# Train final model with best parameters\n",
        "print(\"\\nTraining final model...\")\n",
        "model = BrainTumorCNN(dropout_rate=params['dropout_rate'])\n",
        "\n",
        "model.train_model(\n",
        "    dataloaders['train'], dataloaders['test'],\n",
        "    epochs=params['epochs'], lr=params['learning_rate'],\n",
        "    optimizer_type=params['optimizer'], class_weights=class_weights,\n",
        "    patience=params['patience']\n",
        ")\n",
        "\n",
        "# Final evaluation\n",
        "print(\"\\nFinal evaluation...\")\n",
        "evaluate_model(model, dataloaders['test'])\n",
        "\n",
        "# Plot training history\n",
        "plot_training_history(model)"
      ],
      "metadata": {
        "colab": {
          "base_uri": "https://localhost:8080/",
          "height": 1000
        },
        "id": "lL4UaCz9UzNs",
        "outputId": "3c666eb0-aff8-4b3a-fad5-0b60375353b6"
      },
      "execution_count": null,
      "outputs": [
        {
          "output_type": "stream",
          "name": "stdout",
          "text": [
            "Starting Custom CNN Training\n",
            "Focus: CNN Architecture & Hyperparameter Optimization\n",
            "============================================================\n",
            "\n",
            "Using parameters: {'dropout_rate': 0.07, 'learning_rate': 0.001, 'optimizer': 'adam', 'epochs': 100, 'patience': 15}\n",
            "\n",
            "Training final model...\n",
            "\n",
            "Epoch 1/100\n"
          ]
        },
        {
          "output_type": "stream",
          "name": "stderr",
          "text": [
            "Training: 100%|██████████| 13/13 [00:01<00:00,  9.41it/s]\n",
            "Validating: 100%|██████████| 4/4 [00:00<00:00, 11.78it/s]\n"
          ]
        },
        {
          "output_type": "stream",
          "name": "stdout",
          "text": [
            "Train: Loss=0.6242, Acc=62.87%\n",
            "Val: Loss=0.6628, Acc=68.63%\n",
            "\n",
            "Epoch 2/100\n"
          ]
        },
        {
          "output_type": "stream",
          "name": "stderr",
          "text": [
            "Training: 100%|██████████| 13/13 [00:01<00:00,  9.76it/s]\n",
            "Validating: 100%|██████████| 4/4 [00:00<00:00, 12.52it/s]\n"
          ]
        },
        {
          "output_type": "stream",
          "name": "stdout",
          "text": [
            "Train: Loss=0.5453, Acc=74.75%\n",
            "Val: Loss=1.0697, Acc=74.51%\n",
            "\n",
            "Epoch 3/100\n"
          ]
        },
        {
          "output_type": "stream",
          "name": "stderr",
          "text": [
            "Training: 100%|██████████| 13/13 [00:01<00:00,  9.83it/s]\n",
            "Validating: 100%|██████████| 4/4 [00:00<00:00, 12.40it/s]\n"
          ]
        },
        {
          "output_type": "stream",
          "name": "stdout",
          "text": [
            "Train: Loss=0.5239, Acc=75.25%\n",
            "Val: Loss=0.4673, Acc=76.47%\n",
            "\n",
            "Epoch 4/100\n"
          ]
        },
        {
          "output_type": "stream",
          "name": "stderr",
          "text": [
            "Training: 100%|██████████| 13/13 [00:01<00:00,  9.88it/s]\n",
            "Validating: 100%|██████████| 4/4 [00:00<00:00, 11.81it/s]\n"
          ]
        },
        {
          "output_type": "stream",
          "name": "stdout",
          "text": [
            "Train: Loss=0.4635, Acc=78.71%\n",
            "Val: Loss=0.6008, Acc=72.55%\n",
            "\n",
            "Epoch 5/100\n"
          ]
        },
        {
          "output_type": "stream",
          "name": "stderr",
          "text": [
            "Training: 100%|██████████| 13/13 [00:01<00:00,  9.24it/s]\n",
            "Validating: 100%|██████████| 4/4 [00:00<00:00,  7.46it/s]\n"
          ]
        },
        {
          "output_type": "stream",
          "name": "stdout",
          "text": [
            "Train: Loss=0.4459, Acc=75.25%\n",
            "Val: Loss=0.5070, Acc=74.51%\n",
            "\n",
            "Epoch 6/100\n"
          ]
        },
        {
          "output_type": "stream",
          "name": "stderr",
          "text": [
            "Training: 100%|██████████| 13/13 [00:01<00:00,  7.51it/s]\n",
            "Validating: 100%|██████████| 4/4 [00:00<00:00, 12.27it/s]\n"
          ]
        },
        {
          "output_type": "stream",
          "name": "stdout",
          "text": [
            "Train: Loss=0.4305, Acc=78.71%\n",
            "Val: Loss=0.4152, Acc=76.47%\n",
            "\n",
            "Epoch 7/100\n"
          ]
        },
        {
          "output_type": "stream",
          "name": "stderr",
          "text": [
            "Training: 100%|██████████| 13/13 [00:01<00:00,  9.53it/s]\n",
            "Validating: 100%|██████████| 4/4 [00:00<00:00, 12.39it/s]\n"
          ]
        },
        {
          "output_type": "stream",
          "name": "stdout",
          "text": [
            "Train: Loss=0.5001, Acc=74.75%\n",
            "Val: Loss=0.7635, Acc=70.59%\n",
            "\n",
            "Epoch 8/100\n"
          ]
        },
        {
          "output_type": "stream",
          "name": "stderr",
          "text": [
            "Training: 100%|██████████| 13/13 [00:01<00:00,  9.55it/s]\n",
            "Validating: 100%|██████████| 4/4 [00:00<00:00, 12.03it/s]\n"
          ]
        },
        {
          "output_type": "stream",
          "name": "stdout",
          "text": [
            "Train: Loss=0.4389, Acc=79.70%\n",
            "Val: Loss=0.5185, Acc=72.55%\n",
            "\n",
            "Epoch 9/100\n"
          ]
        },
        {
          "output_type": "stream",
          "name": "stderr",
          "text": [
            "Training: 100%|██████████| 13/13 [00:01<00:00,  9.60it/s]\n",
            "Validating: 100%|██████████| 4/4 [00:00<00:00, 11.83it/s]\n"
          ]
        },
        {
          "output_type": "stream",
          "name": "stdout",
          "text": [
            "Train: Loss=0.3913, Acc=85.15%\n",
            "Val: Loss=0.6803, Acc=64.71%\n",
            "\n",
            "Epoch 10/100\n"
          ]
        },
        {
          "output_type": "stream",
          "name": "stderr",
          "text": [
            "Training: 100%|██████████| 13/13 [00:01<00:00,  9.28it/s]\n",
            "Validating: 100%|██████████| 4/4 [00:00<00:00, 12.05it/s]\n"
          ]
        },
        {
          "output_type": "stream",
          "name": "stdout",
          "text": [
            "Train: Loss=0.3804, Acc=81.68%\n",
            "Val: Loss=0.4448, Acc=78.43%\n",
            "\n",
            "Epoch 11/100\n"
          ]
        },
        {
          "output_type": "stream",
          "name": "stderr",
          "text": [
            "Training: 100%|██████████| 13/13 [00:01<00:00,  9.59it/s]\n",
            "Validating: 100%|██████████| 4/4 [00:00<00:00, 11.99it/s]\n"
          ]
        },
        {
          "output_type": "stream",
          "name": "stdout",
          "text": [
            "Train: Loss=0.4121, Acc=81.68%\n",
            "Val: Loss=0.6998, Acc=68.63%\n",
            "\n",
            "Epoch 12/100\n"
          ]
        },
        {
          "output_type": "stream",
          "name": "stderr",
          "text": [
            "Training: 100%|██████████| 13/13 [00:01<00:00,  9.02it/s]\n",
            "Validating: 100%|██████████| 4/4 [00:00<00:00,  7.11it/s]\n"
          ]
        },
        {
          "output_type": "stream",
          "name": "stdout",
          "text": [
            "Train: Loss=0.4225, Acc=79.21%\n",
            "Val: Loss=0.4351, Acc=80.39%\n",
            "\n",
            "Epoch 13/100\n"
          ]
        },
        {
          "output_type": "stream",
          "name": "stderr",
          "text": [
            "Training: 100%|██████████| 13/13 [00:01<00:00,  7.55it/s]\n",
            "Validating: 100%|██████████| 4/4 [00:00<00:00, 12.09it/s]\n"
          ]
        },
        {
          "output_type": "stream",
          "name": "stdout",
          "text": [
            "Train: Loss=0.3836, Acc=83.66%\n",
            "Val: Loss=0.6318, Acc=72.55%\n",
            "\n",
            "Epoch 14/100\n"
          ]
        },
        {
          "output_type": "stream",
          "name": "stderr",
          "text": [
            "Training: 100%|██████████| 13/13 [00:01<00:00,  9.62it/s]\n",
            "Validating: 100%|██████████| 4/4 [00:00<00:00, 12.11it/s]\n"
          ]
        },
        {
          "output_type": "stream",
          "name": "stdout",
          "text": [
            "Train: Loss=0.3748, Acc=82.18%\n",
            "Val: Loss=0.4678, Acc=74.51%\n",
            "\n",
            "Epoch 15/100\n"
          ]
        },
        {
          "output_type": "stream",
          "name": "stderr",
          "text": [
            "Training: 100%|██████████| 13/13 [00:01<00:00,  9.76it/s]\n",
            "Validating: 100%|██████████| 4/4 [00:00<00:00, 11.34it/s]\n"
          ]
        },
        {
          "output_type": "stream",
          "name": "stdout",
          "text": [
            "Train: Loss=0.3781, Acc=82.18%\n",
            "Val: Loss=0.4647, Acc=76.47%\n",
            "\n",
            "Epoch 16/100\n"
          ]
        },
        {
          "output_type": "stream",
          "name": "stderr",
          "text": [
            "Training: 100%|██████████| 13/13 [00:01<00:00,  9.72it/s]\n",
            "Validating: 100%|██████████| 4/4 [00:00<00:00, 12.40it/s]\n"
          ]
        },
        {
          "output_type": "stream",
          "name": "stdout",
          "text": [
            "Train: Loss=0.3595, Acc=86.63%\n",
            "Val: Loss=0.4149, Acc=78.43%\n",
            "\n",
            "Epoch 17/100\n"
          ]
        },
        {
          "output_type": "stream",
          "name": "stderr",
          "text": [
            "Training: 100%|██████████| 13/13 [00:01<00:00,  9.66it/s]\n",
            "Validating: 100%|██████████| 4/4 [00:00<00:00, 11.68it/s]\n"
          ]
        },
        {
          "output_type": "stream",
          "name": "stdout",
          "text": [
            "Train: Loss=0.3665, Acc=84.16%\n",
            "Val: Loss=0.3908, Acc=74.51%\n",
            "\n",
            "Epoch 18/100\n"
          ]
        },
        {
          "output_type": "stream",
          "name": "stderr",
          "text": [
            "Training: 100%|██████████| 13/13 [00:01<00:00,  9.85it/s]\n",
            "Validating: 100%|██████████| 4/4 [00:00<00:00, 12.41it/s]\n"
          ]
        },
        {
          "output_type": "stream",
          "name": "stdout",
          "text": [
            "Train: Loss=0.3518, Acc=85.15%\n",
            "Val: Loss=0.4243, Acc=76.47%\n",
            "\n",
            "Epoch 19/100\n"
          ]
        },
        {
          "output_type": "stream",
          "name": "stderr",
          "text": [
            "Training: 100%|██████████| 13/13 [00:01<00:00,  9.39it/s]\n",
            "Validating: 100%|██████████| 4/4 [00:00<00:00,  7.88it/s]\n"
          ]
        },
        {
          "output_type": "stream",
          "name": "stdout",
          "text": [
            "Train: Loss=0.4141, Acc=83.17%\n",
            "Val: Loss=0.4685, Acc=80.39%\n",
            "\n",
            "Epoch 20/100\n"
          ]
        },
        {
          "output_type": "stream",
          "name": "stderr",
          "text": [
            "Training: 100%|██████████| 13/13 [00:01<00:00,  7.23it/s]\n",
            "Validating: 100%|██████████| 4/4 [00:00<00:00, 12.17it/s]\n"
          ]
        },
        {
          "output_type": "stream",
          "name": "stdout",
          "text": [
            "Train: Loss=0.3693, Acc=81.68%\n",
            "Val: Loss=0.3537, Acc=84.31%\n",
            "\n",
            "Epoch 21/100\n"
          ]
        },
        {
          "output_type": "stream",
          "name": "stderr",
          "text": [
            "Training: 100%|██████████| 13/13 [00:01<00:00,  9.71it/s]\n",
            "Validating: 100%|██████████| 4/4 [00:00<00:00, 11.57it/s]\n"
          ]
        },
        {
          "output_type": "stream",
          "name": "stdout",
          "text": [
            "Train: Loss=0.3482, Acc=85.64%\n",
            "Val: Loss=0.6304, Acc=80.39%\n",
            "\n",
            "Epoch 22/100\n"
          ]
        },
        {
          "output_type": "stream",
          "name": "stderr",
          "text": [
            "Training: 100%|██████████| 13/13 [00:01<00:00,  9.91it/s]\n",
            "Validating: 100%|██████████| 4/4 [00:00<00:00, 12.11it/s]\n"
          ]
        },
        {
          "output_type": "stream",
          "name": "stdout",
          "text": [
            "Train: Loss=0.3695, Acc=84.65%\n",
            "Val: Loss=0.5507, Acc=78.43%\n",
            "\n",
            "Epoch 23/100\n"
          ]
        },
        {
          "output_type": "stream",
          "name": "stderr",
          "text": [
            "Training: 100%|██████████| 13/13 [00:01<00:00,  9.91it/s]\n",
            "Validating: 100%|██████████| 4/4 [00:00<00:00, 12.05it/s]\n"
          ]
        },
        {
          "output_type": "stream",
          "name": "stdout",
          "text": [
            "Train: Loss=0.3788, Acc=84.16%\n",
            "Val: Loss=0.3528, Acc=80.39%\n",
            "\n",
            "Epoch 24/100\n"
          ]
        },
        {
          "output_type": "stream",
          "name": "stderr",
          "text": [
            "Training: 100%|██████████| 13/13 [00:01<00:00,  9.98it/s]\n",
            "Validating: 100%|██████████| 4/4 [00:00<00:00, 12.46it/s]\n"
          ]
        },
        {
          "output_type": "stream",
          "name": "stdout",
          "text": [
            "Train: Loss=0.3077, Acc=86.63%\n",
            "Val: Loss=0.5109, Acc=80.39%\n",
            "\n",
            "Epoch 25/100\n"
          ]
        },
        {
          "output_type": "stream",
          "name": "stderr",
          "text": [
            "Training: 100%|██████████| 13/13 [00:01<00:00,  9.52it/s]\n",
            "Validating: 100%|██████████| 4/4 [00:00<00:00, 12.15it/s]\n"
          ]
        },
        {
          "output_type": "stream",
          "name": "stdout",
          "text": [
            "Train: Loss=0.3829, Acc=83.17%\n",
            "Val: Loss=0.4548, Acc=78.43%\n",
            "\n",
            "Epoch 26/100\n"
          ]
        },
        {
          "output_type": "stream",
          "name": "stderr",
          "text": [
            "Training: 100%|██████████| 13/13 [00:01<00:00,  9.39it/s]\n",
            "Validating: 100%|██████████| 4/4 [00:00<00:00,  8.19it/s]\n"
          ]
        },
        {
          "output_type": "stream",
          "name": "stdout",
          "text": [
            "Train: Loss=0.3153, Acc=85.15%\n",
            "Val: Loss=0.3649, Acc=78.43%\n",
            "\n",
            "Epoch 27/100\n"
          ]
        },
        {
          "output_type": "stream",
          "name": "stderr",
          "text": [
            "Training: 100%|██████████| 13/13 [00:01<00:00,  7.38it/s]\n",
            "Validating: 100%|██████████| 4/4 [00:00<00:00,  8.86it/s]\n"
          ]
        },
        {
          "output_type": "stream",
          "name": "stdout",
          "text": [
            "Train: Loss=0.2822, Acc=88.61%\n",
            "Val: Loss=0.4829, Acc=84.31%\n",
            "\n",
            "Epoch 28/100\n"
          ]
        },
        {
          "output_type": "stream",
          "name": "stderr",
          "text": [
            "Training: 100%|██████████| 13/13 [00:01<00:00,  9.74it/s]\n",
            "Validating: 100%|██████████| 4/4 [00:00<00:00, 12.25it/s]\n"
          ]
        },
        {
          "output_type": "stream",
          "name": "stdout",
          "text": [
            "Train: Loss=0.3225, Acc=84.16%\n",
            "Val: Loss=0.6328, Acc=86.27%\n",
            "\n",
            "Epoch 29/100\n"
          ]
        },
        {
          "output_type": "stream",
          "name": "stderr",
          "text": [
            "Training: 100%|██████████| 13/13 [00:01<00:00,  9.62it/s]\n",
            "Validating: 100%|██████████| 4/4 [00:00<00:00, 12.30it/s]\n"
          ]
        },
        {
          "output_type": "stream",
          "name": "stdout",
          "text": [
            "Train: Loss=0.3531, Acc=85.15%\n",
            "Val: Loss=0.4863, Acc=76.47%\n",
            "\n",
            "Epoch 30/100\n"
          ]
        },
        {
          "output_type": "stream",
          "name": "stderr",
          "text": [
            "Training: 100%|██████████| 13/13 [00:01<00:00,  9.97it/s]\n",
            "Validating: 100%|██████████| 4/4 [00:00<00:00, 11.76it/s]\n"
          ]
        },
        {
          "output_type": "stream",
          "name": "stdout",
          "text": [
            "Train: Loss=0.3156, Acc=87.13%\n",
            "Val: Loss=0.5115, Acc=78.43%\n",
            "\n",
            "Epoch 31/100\n"
          ]
        },
        {
          "output_type": "stream",
          "name": "stderr",
          "text": [
            "Training: 100%|██████████| 13/13 [00:01<00:00,  9.59it/s]\n",
            "Validating: 100%|██████████| 4/4 [00:00<00:00, 12.61it/s]\n"
          ]
        },
        {
          "output_type": "stream",
          "name": "stdout",
          "text": [
            "Train: Loss=0.3039, Acc=85.64%\n",
            "Val: Loss=0.4159, Acc=80.39%\n",
            "\n",
            "Epoch 32/100\n"
          ]
        },
        {
          "output_type": "stream",
          "name": "stderr",
          "text": [
            "Training: 100%|██████████| 13/13 [00:01<00:00,  9.70it/s]\n",
            "Validating: 100%|██████████| 4/4 [00:00<00:00, 11.90it/s]\n"
          ]
        },
        {
          "output_type": "stream",
          "name": "stdout",
          "text": [
            "Train: Loss=0.2739, Acc=88.61%\n",
            "Val: Loss=0.3985, Acc=80.39%\n",
            "\n",
            "Epoch 33/100\n"
          ]
        },
        {
          "output_type": "stream",
          "name": "stderr",
          "text": [
            "Training: 100%|██████████| 13/13 [00:01<00:00,  9.65it/s]\n",
            "Validating: 100%|██████████| 4/4 [00:00<00:00,  9.55it/s]\n"
          ]
        },
        {
          "output_type": "stream",
          "name": "stdout",
          "text": [
            "Train: Loss=0.2406, Acc=89.60%\n",
            "Val: Loss=0.4577, Acc=80.39%\n",
            "\n",
            "Epoch 34/100\n"
          ]
        },
        {
          "output_type": "stream",
          "name": "stderr",
          "text": [
            "Training: 100%|██████████| 13/13 [00:01<00:00,  6.84it/s]\n",
            "Validating: 100%|██████████| 4/4 [00:00<00:00,  8.07it/s]\n"
          ]
        },
        {
          "output_type": "stream",
          "name": "stdout",
          "text": [
            "Train: Loss=0.2581, Acc=88.12%\n",
            "Val: Loss=0.6170, Acc=80.39%\n",
            "\n",
            "Epoch 35/100\n"
          ]
        },
        {
          "output_type": "stream",
          "name": "stderr",
          "text": [
            "Training: 100%|██████████| 13/13 [00:01<00:00,  9.69it/s]\n",
            "Validating: 100%|██████████| 4/4 [00:00<00:00, 12.64it/s]\n"
          ]
        },
        {
          "output_type": "stream",
          "name": "stdout",
          "text": [
            "Train: Loss=0.3056, Acc=86.14%\n",
            "Val: Loss=0.3754, Acc=84.31%\n",
            "\n",
            "Epoch 36/100\n"
          ]
        },
        {
          "output_type": "stream",
          "name": "stderr",
          "text": [
            "Training: 100%|██████████| 13/13 [00:01<00:00,  9.57it/s]\n",
            "Validating: 100%|██████████| 4/4 [00:00<00:00, 12.25it/s]\n"
          ]
        },
        {
          "output_type": "stream",
          "name": "stdout",
          "text": [
            "Train: Loss=0.2754, Acc=87.62%\n",
            "Val: Loss=0.4141, Acc=82.35%\n",
            "\n",
            "Epoch 37/100\n"
          ]
        },
        {
          "output_type": "stream",
          "name": "stderr",
          "text": [
            "Training: 100%|██████████| 13/13 [00:01<00:00,  9.85it/s]\n",
            "Validating: 100%|██████████| 4/4 [00:00<00:00, 11.84it/s]\n"
          ]
        },
        {
          "output_type": "stream",
          "name": "stdout",
          "text": [
            "Train: Loss=0.2499, Acc=87.62%\n",
            "Val: Loss=0.3456, Acc=86.27%\n",
            "\n",
            "Epoch 38/100\n"
          ]
        },
        {
          "output_type": "stream",
          "name": "stderr",
          "text": [
            "Training: 100%|██████████| 13/13 [00:01<00:00,  9.75it/s]\n",
            "Validating: 100%|██████████| 4/4 [00:00<00:00, 12.66it/s]\n"
          ]
        },
        {
          "output_type": "stream",
          "name": "stdout",
          "text": [
            "Train: Loss=0.2344, Acc=90.59%\n",
            "Val: Loss=0.5060, Acc=86.27%\n",
            "\n",
            "Epoch 39/100\n"
          ]
        },
        {
          "output_type": "stream",
          "name": "stderr",
          "text": [
            "Training: 100%|██████████| 13/13 [00:01<00:00,  9.74it/s]\n",
            "Validating: 100%|██████████| 4/4 [00:00<00:00, 11.67it/s]\n"
          ]
        },
        {
          "output_type": "stream",
          "name": "stdout",
          "text": [
            "Train: Loss=0.2491, Acc=88.61%\n",
            "Val: Loss=0.3838, Acc=88.24%\n",
            "\n",
            "Epoch 40/100\n"
          ]
        },
        {
          "output_type": "stream",
          "name": "stderr",
          "text": [
            "Training: 100%|██████████| 13/13 [00:01<00:00,  9.71it/s]\n",
            "Validating: 100%|██████████| 4/4 [00:00<00:00, 10.83it/s]\n"
          ]
        },
        {
          "output_type": "stream",
          "name": "stdout",
          "text": [
            "Train: Loss=0.3001, Acc=85.15%\n",
            "Val: Loss=0.3781, Acc=80.39%\n",
            "\n",
            "Epoch 41/100\n"
          ]
        },
        {
          "output_type": "stream",
          "name": "stderr",
          "text": [
            "Training: 100%|██████████| 13/13 [00:01<00:00,  7.23it/s]\n",
            "Validating: 100%|██████████| 4/4 [00:00<00:00,  7.86it/s]\n"
          ]
        },
        {
          "output_type": "stream",
          "name": "stdout",
          "text": [
            "Train: Loss=0.3017, Acc=88.12%\n",
            "Val: Loss=0.4210, Acc=84.31%\n",
            "\n",
            "Epoch 42/100\n"
          ]
        },
        {
          "output_type": "stream",
          "name": "stderr",
          "text": [
            "Training: 100%|██████████| 13/13 [00:01<00:00,  9.39it/s]\n",
            "Validating: 100%|██████████| 4/4 [00:00<00:00, 12.33it/s]\n"
          ]
        },
        {
          "output_type": "stream",
          "name": "stdout",
          "text": [
            "Train: Loss=0.2550, Acc=89.60%\n",
            "Val: Loss=0.4311, Acc=84.31%\n",
            "\n",
            "Epoch 43/100\n"
          ]
        },
        {
          "output_type": "stream",
          "name": "stderr",
          "text": [
            "Training: 100%|██████████| 13/13 [00:01<00:00,  9.64it/s]\n",
            "Validating: 100%|██████████| 4/4 [00:00<00:00, 12.20it/s]\n"
          ]
        },
        {
          "output_type": "stream",
          "name": "stdout",
          "text": [
            "Train: Loss=0.2358, Acc=88.12%\n",
            "Val: Loss=0.5111, Acc=82.35%\n",
            "\n",
            "Epoch 44/100\n"
          ]
        },
        {
          "output_type": "stream",
          "name": "stderr",
          "text": [
            "Training: 100%|██████████| 13/13 [00:01<00:00,  9.42it/s]\n",
            "Validating: 100%|██████████| 4/4 [00:00<00:00, 12.52it/s]\n"
          ]
        },
        {
          "output_type": "stream",
          "name": "stdout",
          "text": [
            "Train: Loss=0.2678, Acc=86.63%\n",
            "Val: Loss=0.3627, Acc=86.27%\n",
            "\n",
            "Epoch 45/100\n"
          ]
        },
        {
          "output_type": "stream",
          "name": "stderr",
          "text": [
            "Training: 100%|██████████| 13/13 [00:01<00:00,  9.14it/s]\n",
            "Validating: 100%|██████████| 4/4 [00:00<00:00, 12.04it/s]\n"
          ]
        },
        {
          "output_type": "stream",
          "name": "stdout",
          "text": [
            "Train: Loss=0.2585, Acc=89.60%\n",
            "Val: Loss=0.3954, Acc=84.31%\n",
            "\n",
            "Epoch 46/100\n"
          ]
        },
        {
          "output_type": "stream",
          "name": "stderr",
          "text": [
            "Training: 100%|██████████| 13/13 [00:01<00:00,  9.86it/s]\n",
            "Validating: 100%|██████████| 4/4 [00:00<00:00, 11.38it/s]\n"
          ]
        },
        {
          "output_type": "stream",
          "name": "stdout",
          "text": [
            "Train: Loss=0.2334, Acc=89.60%\n",
            "Val: Loss=0.5394, Acc=82.35%\n",
            "\n",
            "Epoch 47/100\n"
          ]
        },
        {
          "output_type": "stream",
          "name": "stderr",
          "text": [
            "Training: 100%|██████████| 13/13 [00:01<00:00, 10.00it/s]\n",
            "Validating: 100%|██████████| 4/4 [00:00<00:00, 11.85it/s]\n"
          ]
        },
        {
          "output_type": "stream",
          "name": "stdout",
          "text": [
            "Train: Loss=0.2754, Acc=88.12%\n",
            "Val: Loss=0.3629, Acc=80.39%\n",
            "\n",
            "Epoch 48/100\n"
          ]
        },
        {
          "output_type": "stream",
          "name": "stderr",
          "text": [
            "Training: 100%|██████████| 13/13 [00:01<00:00,  6.99it/s]\n",
            "Validating: 100%|██████████| 4/4 [00:00<00:00,  7.45it/s]\n"
          ]
        },
        {
          "output_type": "stream",
          "name": "stdout",
          "text": [
            "Train: Loss=0.2520, Acc=89.60%\n",
            "Val: Loss=0.3282, Acc=84.31%\n",
            "\n",
            "Epoch 49/100\n"
          ]
        },
        {
          "output_type": "stream",
          "name": "stderr",
          "text": [
            "Training: 100%|██████████| 13/13 [00:01<00:00,  9.21it/s]\n",
            "Validating: 100%|██████████| 4/4 [00:00<00:00, 12.49it/s]\n"
          ]
        },
        {
          "output_type": "stream",
          "name": "stdout",
          "text": [
            "Train: Loss=0.2003, Acc=93.07%\n",
            "Val: Loss=0.4104, Acc=82.35%\n",
            "\n",
            "Epoch 50/100\n"
          ]
        },
        {
          "output_type": "stream",
          "name": "stderr",
          "text": [
            "Training: 100%|██████████| 13/13 [00:01<00:00,  9.61it/s]\n",
            "Validating: 100%|██████████| 4/4 [00:00<00:00, 12.40it/s]\n"
          ]
        },
        {
          "output_type": "stream",
          "name": "stdout",
          "text": [
            "Train: Loss=0.2188, Acc=92.08%\n",
            "Val: Loss=0.5055, Acc=84.31%\n",
            "\n",
            "Epoch 51/100\n"
          ]
        },
        {
          "output_type": "stream",
          "name": "stderr",
          "text": [
            "Training: 100%|██████████| 13/13 [00:01<00:00,  9.72it/s]\n",
            "Validating: 100%|██████████| 4/4 [00:00<00:00, 12.46it/s]\n"
          ]
        },
        {
          "output_type": "stream",
          "name": "stdout",
          "text": [
            "Train: Loss=0.2512, Acc=87.13%\n",
            "Val: Loss=0.8883, Acc=84.31%\n",
            "\n",
            "Epoch 52/100\n"
          ]
        },
        {
          "output_type": "stream",
          "name": "stderr",
          "text": [
            "Training: 100%|██████████| 13/13 [00:01<00:00,  9.29it/s]\n",
            "Validating: 100%|██████████| 4/4 [00:00<00:00, 12.37it/s]\n"
          ]
        },
        {
          "output_type": "stream",
          "name": "stdout",
          "text": [
            "Train: Loss=0.2336, Acc=88.61%\n",
            "Val: Loss=0.3164, Acc=82.35%\n",
            "\n",
            "Epoch 53/100\n"
          ]
        },
        {
          "output_type": "stream",
          "name": "stderr",
          "text": [
            "Training: 100%|██████████| 13/13 [00:01<00:00,  9.46it/s]\n",
            "Validating: 100%|██████████| 4/4 [00:00<00:00, 11.66it/s]\n"
          ]
        },
        {
          "output_type": "stream",
          "name": "stdout",
          "text": [
            "Train: Loss=0.2292, Acc=92.57%\n",
            "Val: Loss=0.3406, Acc=84.31%\n",
            "\n",
            "Epoch 54/100\n"
          ]
        },
        {
          "output_type": "stream",
          "name": "stderr",
          "text": [
            "Training: 100%|██████████| 13/13 [00:01<00:00,  9.90it/s]\n",
            "Validating: 100%|██████████| 4/4 [00:00<00:00, 11.99it/s]\n"
          ]
        },
        {
          "output_type": "stream",
          "name": "stdout",
          "text": [
            "Train: Loss=0.1962, Acc=93.07%\n",
            "Val: Loss=0.3942, Acc=82.35%\n",
            "\n",
            "Epoch 55/100\n"
          ]
        },
        {
          "output_type": "stream",
          "name": "stderr",
          "text": [
            "Training: 100%|██████████| 13/13 [00:01<00:00,  7.20it/s]\n",
            "Validating: 100%|██████████| 4/4 [00:00<00:00,  8.19it/s]\n"
          ]
        },
        {
          "output_type": "stream",
          "name": "stdout",
          "text": [
            "Train: Loss=0.2129, Acc=91.58%\n",
            "Val: Loss=0.3631, Acc=82.35%\n",
            "\n",
            "Epoch 56/100\n"
          ]
        },
        {
          "output_type": "stream",
          "name": "stderr",
          "text": [
            "Training: 100%|██████████| 13/13 [00:01<00:00,  8.65it/s]\n",
            "Validating: 100%|██████████| 4/4 [00:00<00:00, 12.04it/s]\n"
          ]
        },
        {
          "output_type": "stream",
          "name": "stdout",
          "text": [
            "Train: Loss=0.2468, Acc=90.10%\n",
            "Val: Loss=0.3475, Acc=86.27%\n",
            "\n",
            "Epoch 57/100\n"
          ]
        },
        {
          "output_type": "stream",
          "name": "stderr",
          "text": [
            "Training: 100%|██████████| 13/13 [00:01<00:00,  9.77it/s]\n",
            "Validating: 100%|██████████| 4/4 [00:00<00:00, 12.23it/s]\n"
          ]
        },
        {
          "output_type": "stream",
          "name": "stdout",
          "text": [
            "Train: Loss=0.2226, Acc=90.10%\n",
            "Val: Loss=0.3561, Acc=84.31%\n",
            "\n",
            "Epoch 58/100\n"
          ]
        },
        {
          "output_type": "stream",
          "name": "stderr",
          "text": [
            "Training: 100%|██████████| 13/13 [00:01<00:00,  9.52it/s]\n",
            "Validating: 100%|██████████| 4/4 [00:00<00:00, 12.25it/s]\n"
          ]
        },
        {
          "output_type": "stream",
          "name": "stdout",
          "text": [
            "Train: Loss=0.2498, Acc=90.10%\n",
            "Val: Loss=0.4074, Acc=82.35%\n",
            "\n",
            "Epoch 59/100\n"
          ]
        },
        {
          "output_type": "stream",
          "name": "stderr",
          "text": [
            "Training: 100%|██████████| 13/13 [00:01<00:00,  9.70it/s]\n",
            "Validating: 100%|██████████| 4/4 [00:00<00:00, 12.38it/s]\n"
          ]
        },
        {
          "output_type": "stream",
          "name": "stdout",
          "text": [
            "Train: Loss=0.2588, Acc=89.11%\n",
            "Val: Loss=0.4678, Acc=82.35%\n",
            "\n",
            "Epoch 60/100\n"
          ]
        },
        {
          "output_type": "stream",
          "name": "stderr",
          "text": [
            "Training: 100%|██████████| 13/13 [00:01<00:00,  9.66it/s]\n",
            "Validating: 100%|██████████| 4/4 [00:00<00:00, 11.83it/s]\n"
          ]
        },
        {
          "output_type": "stream",
          "name": "stdout",
          "text": [
            "Train: Loss=0.1853, Acc=93.07%\n",
            "Val: Loss=0.3293, Acc=88.24%\n",
            "\n",
            "Epoch 61/100\n"
          ]
        },
        {
          "output_type": "stream",
          "name": "stderr",
          "text": [
            "Training: 100%|██████████| 13/13 [00:01<00:00,  9.61it/s]\n",
            "Validating: 100%|██████████| 4/4 [00:00<00:00, 12.71it/s]\n"
          ]
        },
        {
          "output_type": "stream",
          "name": "stdout",
          "text": [
            "Train: Loss=0.2667, Acc=91.58%\n",
            "Val: Loss=0.3356, Acc=88.24%\n",
            "\n",
            "Epoch 62/100\n"
          ]
        },
        {
          "output_type": "stream",
          "name": "stderr",
          "text": [
            "Training: 100%|██████████| 13/13 [00:01<00:00,  7.30it/s]\n",
            "Validating: 100%|██████████| 4/4 [00:00<00:00,  8.48it/s]\n"
          ]
        },
        {
          "output_type": "stream",
          "name": "stdout",
          "text": [
            "Train: Loss=0.1912, Acc=91.58%\n",
            "Val: Loss=0.4424, Acc=88.24%\n",
            "\n",
            "Epoch 63/100\n"
          ]
        },
        {
          "output_type": "stream",
          "name": "stderr",
          "text": [
            "Training: 100%|██████████| 13/13 [00:01<00:00,  8.31it/s]\n",
            "Validating: 100%|██████████| 4/4 [00:00<00:00, 12.62it/s]\n"
          ]
        },
        {
          "output_type": "stream",
          "name": "stdout",
          "text": [
            "Train: Loss=0.2125, Acc=90.59%\n",
            "Val: Loss=0.3642, Acc=84.31%\n",
            "\n",
            "Epoch 64/100\n"
          ]
        },
        {
          "output_type": "stream",
          "name": "stderr",
          "text": [
            "Training: 100%|██████████| 13/13 [00:01<00:00,  9.40it/s]\n",
            "Validating: 100%|██████████| 4/4 [00:00<00:00, 12.76it/s]\n"
          ]
        },
        {
          "output_type": "stream",
          "name": "stdout",
          "text": [
            "Train: Loss=0.1860, Acc=92.57%\n",
            "Val: Loss=0.3105, Acc=86.27%\n",
            "\n",
            "Epoch 65/100\n"
          ]
        },
        {
          "output_type": "stream",
          "name": "stderr",
          "text": [
            "Training: 100%|██████████| 13/13 [00:01<00:00,  9.73it/s]\n",
            "Validating: 100%|██████████| 4/4 [00:00<00:00, 12.36it/s]\n"
          ]
        },
        {
          "output_type": "stream",
          "name": "stdout",
          "text": [
            "Train: Loss=0.2299, Acc=88.61%\n",
            "Val: Loss=0.4576, Acc=88.24%\n",
            "\n",
            "Epoch 66/100\n"
          ]
        },
        {
          "output_type": "stream",
          "name": "stderr",
          "text": [
            "Training: 100%|██████████| 13/13 [00:01<00:00,  9.66it/s]\n",
            "Validating: 100%|██████████| 4/4 [00:00<00:00, 12.52it/s]\n"
          ]
        },
        {
          "output_type": "stream",
          "name": "stdout",
          "text": [
            "Train: Loss=0.1780, Acc=94.55%\n",
            "Val: Loss=0.3381, Acc=88.24%\n",
            "\n",
            "Epoch 67/100\n"
          ]
        },
        {
          "output_type": "stream",
          "name": "stderr",
          "text": [
            "Training: 100%|██████████| 13/13 [00:01<00:00,  9.78it/s]\n",
            "Validating: 100%|██████████| 4/4 [00:00<00:00, 11.92it/s]\n"
          ]
        },
        {
          "output_type": "stream",
          "name": "stdout",
          "text": [
            "Train: Loss=0.1653, Acc=94.55%\n",
            "Val: Loss=0.4140, Acc=86.27%\n",
            "\n",
            "Epoch 68/100\n"
          ]
        },
        {
          "output_type": "stream",
          "name": "stderr",
          "text": [
            "Training: 100%|██████████| 13/13 [00:01<00:00,  9.55it/s]\n",
            "Validating: 100%|██████████| 4/4 [00:00<00:00, 12.57it/s]\n"
          ]
        },
        {
          "output_type": "stream",
          "name": "stdout",
          "text": [
            "Train: Loss=0.1897, Acc=92.57%\n",
            "Val: Loss=0.3501, Acc=88.24%\n",
            "\n",
            "Epoch 69/100\n"
          ]
        },
        {
          "output_type": "stream",
          "name": "stderr",
          "text": [
            "Training: 100%|██████████| 13/13 [00:01<00:00,  8.51it/s]\n",
            "Validating: 100%|██████████| 4/4 [00:00<00:00,  8.20it/s]\n"
          ]
        },
        {
          "output_type": "stream",
          "name": "stdout",
          "text": [
            "Train: Loss=0.2099, Acc=90.59%\n",
            "Val: Loss=0.3184, Acc=84.31%\n",
            "\n",
            "Epoch 70/100\n"
          ]
        },
        {
          "output_type": "stream",
          "name": "stderr",
          "text": [
            "Training: 100%|██████████| 13/13 [00:01<00:00,  7.74it/s]\n",
            "Validating: 100%|██████████| 4/4 [00:00<00:00, 12.31it/s]\n"
          ]
        },
        {
          "output_type": "stream",
          "name": "stdout",
          "text": [
            "Train: Loss=0.2007, Acc=91.58%\n",
            "Val: Loss=0.4667, Acc=88.24%\n",
            "\n",
            "Epoch 71/100\n"
          ]
        },
        {
          "output_type": "stream",
          "name": "stderr",
          "text": [
            "Training: 100%|██████████| 13/13 [00:01<00:00,  9.95it/s]\n",
            "Validating: 100%|██████████| 4/4 [00:00<00:00, 11.63it/s]\n"
          ]
        },
        {
          "output_type": "stream",
          "name": "stdout",
          "text": [
            "Train: Loss=0.3724, Acc=80.69%\n",
            "Val: Loss=0.3294, Acc=88.24%\n",
            "\n",
            "Epoch 72/100\n"
          ]
        },
        {
          "output_type": "stream",
          "name": "stderr",
          "text": [
            "Training: 100%|██████████| 13/13 [00:01<00:00,  9.76it/s]\n",
            "Validating: 100%|██████████| 4/4 [00:00<00:00, 11.16it/s]\n"
          ]
        },
        {
          "output_type": "stream",
          "name": "stdout",
          "text": [
            "Train: Loss=0.1814, Acc=93.56%\n",
            "Val: Loss=0.3879, Acc=82.35%\n",
            "\n",
            "Epoch 73/100\n"
          ]
        },
        {
          "output_type": "stream",
          "name": "stderr",
          "text": [
            "Training: 100%|██████████| 13/13 [00:01<00:00,  9.61it/s]\n",
            "Validating: 100%|██████████| 4/4 [00:00<00:00, 12.45it/s]\n"
          ]
        },
        {
          "output_type": "stream",
          "name": "stdout",
          "text": [
            "Train: Loss=0.2012, Acc=90.10%\n",
            "Val: Loss=0.3386, Acc=86.27%\n",
            "\n",
            "Epoch 74/100\n"
          ]
        },
        {
          "output_type": "stream",
          "name": "stderr",
          "text": [
            "Training: 100%|██████████| 13/13 [00:01<00:00,  9.79it/s]\n",
            "Validating: 100%|██████████| 4/4 [00:00<00:00, 12.54it/s]\n"
          ]
        },
        {
          "output_type": "stream",
          "name": "stdout",
          "text": [
            "Train: Loss=0.2172, Acc=91.09%\n",
            "Val: Loss=0.3461, Acc=86.27%\n",
            "\n",
            "Epoch 75/100\n"
          ]
        },
        {
          "output_type": "stream",
          "name": "stderr",
          "text": [
            "Training: 100%|██████████| 13/13 [00:01<00:00,  9.58it/s]\n",
            "Validating: 100%|██████████| 4/4 [00:00<00:00, 12.27it/s]\n"
          ]
        },
        {
          "output_type": "stream",
          "name": "stdout",
          "text": [
            "Train: Loss=0.2091, Acc=91.09%\n",
            "Val: Loss=0.3397, Acc=86.27%\n",
            "\n",
            "Epoch 76/100\n"
          ]
        },
        {
          "output_type": "stream",
          "name": "stderr",
          "text": [
            "Training: 100%|██████████| 13/13 [00:01<00:00,  9.21it/s]\n",
            "Validating: 100%|██████████| 4/4 [00:00<00:00,  8.08it/s]\n"
          ]
        },
        {
          "output_type": "stream",
          "name": "stdout",
          "text": [
            "Train: Loss=0.1781, Acc=93.07%\n",
            "Val: Loss=0.4782, Acc=86.27%\n",
            "\n",
            "Epoch 77/100\n"
          ]
        },
        {
          "output_type": "stream",
          "name": "stderr",
          "text": [
            "Training: 100%|██████████| 13/13 [00:01<00:00,  7.49it/s]\n",
            "Validating: 100%|██████████| 4/4 [00:00<00:00, 12.16it/s]\n"
          ]
        },
        {
          "output_type": "stream",
          "name": "stdout",
          "text": [
            "Train: Loss=0.1920, Acc=90.59%\n",
            "Val: Loss=0.3510, Acc=86.27%\n",
            "\n",
            "Epoch 78/100\n"
          ]
        },
        {
          "output_type": "stream",
          "name": "stderr",
          "text": [
            "Training: 100%|██████████| 13/13 [00:01<00:00,  9.51it/s]\n",
            "Validating: 100%|██████████| 4/4 [00:00<00:00, 11.54it/s]\n"
          ]
        },
        {
          "output_type": "stream",
          "name": "stdout",
          "text": [
            "Train: Loss=0.1689, Acc=93.56%\n",
            "Val: Loss=0.4104, Acc=86.27%\n",
            "\n",
            "Epoch 79/100\n"
          ]
        },
        {
          "output_type": "stream",
          "name": "stderr",
          "text": [
            "Training: 100%|██████████| 13/13 [00:01<00:00,  9.52it/s]\n",
            "Validating: 100%|██████████| 4/4 [00:00<00:00, 12.17it/s]"
          ]
        },
        {
          "output_type": "stream",
          "name": "stdout",
          "text": [
            "Train: Loss=0.1576, Acc=94.06%\n",
            "Val: Loss=0.3315, Acc=86.27%\n",
            "Early stopping at epoch 79\n",
            "\n",
            "Final evaluation...\n"
          ]
        },
        {
          "output_type": "stream",
          "name": "stderr",
          "text": [
            "\n"
          ]
        },
        {
          "output_type": "stream",
          "name": "stdout",
          "text": [
            "\n",
            "==================================================\n",
            "EVALUATION RESULTS\n",
            "==================================================\n",
            "ACCURACY: 0.8627\n",
            "PRECISION: 0.9000\n",
            "RECALL: 0.8710\n",
            "F1: 0.8852\n",
            "AUC: 0.9161\n"
          ]
        },
        {
          "output_type": "display_data",
          "data": {
            "text/plain": [
              "<Figure size 1200x400 with 2 Axes>"
            ],
            "image/png": "[encoded data removed]"
          },
          "metadata": {}
        }
      ]
    }
  ]
}